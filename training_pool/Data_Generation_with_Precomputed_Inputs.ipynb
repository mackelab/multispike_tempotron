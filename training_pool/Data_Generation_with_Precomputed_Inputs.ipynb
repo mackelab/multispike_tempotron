{
 "cells": [
  {
   "cell_type": "markdown",
   "metadata": {},
   "source": [
    "# Data Generation "
   ]
  },
  {
   "cell_type": "markdown",
   "metadata": {},
   "source": [
    "## Execute the cells below in sequence to generate the data with precomputed, unweighted inputs"
   ]
  },
  {
   "cell_type": "markdown",
   "metadata": {},
   "source": [
    "### 1. Make sure you have the main_gen.py file before executing the cells!"
   ]
  },
  {
   "cell_type": "code",
   "execution_count": 1,
   "metadata": {
    "collapsed": true
   },
   "outputs": [],
   "source": [
    "import os\n",
    "import numpy as np\n",
    "from main_gen import gen_input_data, gen_features"
   ]
  },
  {
   "cell_type": "markdown",
   "metadata": {},
   "source": [
    "### 2. Execute the cell below once to generate features and distractors"
   ]
  },
  {
   "cell_type": "code",
   "execution_count": 2,
   "metadata": {
    "collapsed": true
   },
   "outputs": [],
   "source": [
    "n = 500\n",
    "n_fea = 10 #number of different features\n",
    "fr = 5 #average firing rate of each input neuron (Hz)\n",
    "T_fea = 0.05 #T_fea: feature duration (s)\n",
    "dt = 0.001 #bin: discrete time in second\n",
    "\n",
    "np.random.seed(1000000000)\n",
    "features = gen_features(n_fea, n, fr, dt, T_fea)"
   ]
  },
  {
   "cell_type": "markdown",
   "metadata": {},
   "source": [
    "### 3. Execute the cell below to generate the unweighted input data"
   ]
  },
  {
   "cell_type": "markdown",
   "metadata": {},
   "source": [
    "Points to consider before executing the cell below:\n",
    "\n",
    "a. Mean trial duration = T_null + n_fea*cf_mean*T_fea\n",
    "\n",
    "b. Values that are less than the syn_ratio of the synaptic kernel (postsynaptic potential) will be truncated.\n",
    "\n",
    "c. Large number of data sets will take a long time to generate, with around 1 second per data set.\n",
    "\n",
    "d. The marker_y of 1.05 and marker_height of 0.05 are set for voltage traces. For raster plot, the recommended marker_y is the number of input neurons (n) and marker_height is n/40.\n",
    "\n",
    "e. Create a subdirectory named \"data\" for storing the generated data files."
   ]
  },
  {
   "cell_type": "code",
   "execution_count": 3,
   "metadata": {
    "collapsed": false
   },
   "outputs": [],
   "source": [
    "cf_mean = 2 #mean number of occurrences for each feature\n",
    "T_null = 0.5 #background activity duration (s)\n",
    "marker_y = 1.05 #y-axis of the markers\n",
    "marker_height = 0.05\n",
    "tau_mem = 20 #ms\n",
    "tau_syn = 5 #ms\n",
    "time_ij = 0 #ms\n",
    "syn_ratio = 0.001 #ratio of synaptic kernel (postsynaptic potential) that is negligible\n",
    "data_set = 100000 #number of data sets required\n",
    "\n",
    "for seed in range(data_set):\n",
    "    data, presyn_input, markers, n_fea_occur, fea_time, fea_order = gen_input_data(seed, features, T_null, n, fr, dt, tau_mem, tau_syn, time_ij, syn_ratio, n_fea, T_fea, cf_mean, marker_y, marker_height)\n",
    "    np.savez(\"data/data_\"+str(seed), data, presyn_input, markers, n_fea_occur, fea_time, fea_order) \n"
   ]
  }
 ],
 "metadata": {
  "kernelspec": {
   "display_name": "Python 3",
   "language": "python",
   "name": "python3"
  },
  "language_info": {
   "codemirror_mode": {
    "name": "ipython",
    "version": 3
   },
   "file_extension": ".py",
   "mimetype": "text/x-python",
   "name": "python",
   "nbconvert_exporter": "python",
   "pygments_lexer": "ipython3",
   "version": "3.6.0"
  }
 },
 "nbformat": 4,
 "nbformat_minor": 2
}
